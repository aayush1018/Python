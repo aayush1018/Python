{
 "cells": [
  {
   "cell_type": "code",
   "execution_count": null,
   "id": "16d4d989-a5f2-4bd3-88a8-84b9645663ab",
   "metadata": {},
   "outputs": [],
   "source": [
    "import numpy as np\n",
    "import matplotlib.pyplot as plt\n",
    "%config InlineBackend.figure_formats = \"retina\"\n",
    "from matplotlib import rcParams\n",
    "import cv2\n",
    "\n",
    "rcParams[\"figure.figsize\"]=(20,28)\n",
    "\n",
    "img = plt.imread(\"../Image Cuts/TheWall.bmp\")\n",
    "plt.imshow(img)\n",
    "print(np.shape(img))"
   ]
  },
  {
   "cell_type": "code",
   "execution_count": null,
   "id": "6a41ead9-80aa-45ff-8284-41734bf20c4a",
   "metadata": {},
   "outputs": [],
   "source": [
    "#split images in two seprate parts\n",
    "\n",
    "imgL= img[:,:870]\n",
    "imgR=img[:,870:]\n",
    "print(np.shape(imgL))\n",
    "print(np.shape(imgR))\n",
    "\n",
    "fig, ax = plt.subplots(1,2)\n",
    "ax[0].imshow(imgL)\n",
    "ax[1].imshow(imgR)"
   ]
  },
  {
   "cell_type": "code",
   "execution_count": null,
   "id": "76eb728c-ca5b-4a52-8913-f0520a70c968",
   "metadata": {},
   "outputs": [],
   "source": [
    "#overlapping the two images\n",
    "\n",
    "overlap = 70\n",
    "heightL, widthL, temp = imgL.shape\n",
    "heightR, widthR, temp = imgR.shape\n",
    "\n",
    "stitch = np.concatenate((imgL[:,:widthL - int(overlap/2)],imgR[:,int(overlap/2):]), axis = 1)\n",
    "plt.imshow(stitch)"
   ]
  },
  {
   "cell_type": "code",
   "execution_count": null,
   "id": "17e84c62-dc3e-448d-bd56-293b33522849",
   "metadata": {},
   "outputs": [],
   "source": [
    "rcParams[\"figure.figsize\"] = 20,10\n",
    "tiny_stitch = stitch[int(heightL/2)-overlap*2:int(heightL/2)+overlap*2, widthL-overlap*2:widthL+overlap]\n",
    "plt.imshow(tiny_stitch)"
   ]
  },
  {
   "cell_type": "code",
   "execution_count": null,
   "id": "64ca49b0-ab32-4c38-83dc-c590bccce82d",
   "metadata": {},
   "outputs": [],
   "source": [
    "rcParams['figure.figsize'] = (20,8)\n",
    "\n",
    "tinyL = imgL[:100,widthL-overlap:]\n",
    "tinyR = imgR[:100,:overlap]\n",
    "\n",
    "# display images\n",
    "fig, ax = plt.subplots(1,2)\n",
    "ax[0].imshow(tinyL)\n",
    "ax[1].imshow(tinyR)"
   ]
  },
  {
   "cell_type": "code",
   "execution_count": null,
   "id": "ce8d9364-1de2-4cb0-92ee-08852df15e75",
   "metadata": {},
   "outputs": [],
   "source": [
    "rcParams['figure.figsize'] = (20,10)\n",
    "\n",
    "# Turn both sections to grayscale\n",
    "tinyL_g = np.dot(tinyL[...,:3], [0.299,0.587,0.114])\n",
    "tinyR_g = np.dot(tinyR[...,:3], [0.299,0.587,0.114])\n",
    "\n",
    "# Calculate their squared difference\n",
    "diff = cv2.subtract(tinyL_g,tinyR_g)\n",
    "diff = cv2.multiply(diff,diff)\n",
    "\n",
    "# Display the squared difference\n",
    "plt.imshow(diff,cmap='gray')\n",
    "np.shape(diff)"
   ]
  },
  {
   "cell_type": "code",
   "execution_count": null,
   "id": "a1cfb367-adac-44be-a973-57650b0d238b",
   "metadata": {},
   "outputs": [],
   "source": [
    "def get_seam(dif):\n",
    "    height, width = dif.shape\n",
    "    cost = dif.copy()\n",
    "    seam = np.zeros((height))\n",
    "    \n",
    "    # Calculate the path costs by traversing the difference top down.\n",
    "    # For every cost at level j, add the pixel value to the minimum cost from its \n",
    "    # 2 or 3 neighbors at lejel j-1 (above).\n",
    "    for j in range(height):\n",
    "        if(j == 0):\n",
    "            continue\n",
    "        for i in range(width):\n",
    "            if(i == 0):\n",
    "                cost[j,i] += np.amin((cost[j-1,i],cost[j-1,i+1]))\n",
    "                continue\n",
    "            if(i == width-1):\n",
    "                cost[j,i] += np.amin((cost[j-1,i-1],cost[j-1,i]))\n",
    "                continue\n",
    "            cost[j,i] += np.amin((cost[j-1,i-1],cost[j-1,i],cost[j-1,i+1]))\n",
    "    \n",
    "    # Produce the seam by traversing the cost array, picking the lowest-cost\n",
    "    # elements, following a continuous path.\n",
    "    for j in reversed(range(height)):\n",
    "        if(j == height-1):\n",
    "            seam[j] = np.argmin((cost[j]))\n",
    "            continue\n",
    "        down = int(seam[j+1])\n",
    "        if(down == 0):\n",
    "            seam[j] = (down) + np.argmin((cost[j,down],cost[j,down+1]))\n",
    "            continue\n",
    "        if(down == width-1):\n",
    "            seam[j] = (down-1) + np.argmin((cost[j,down-1],cost[j,down]))\n",
    "            continue\n",
    "        seam[j] = (down-1) + np.argmin((cost[j,down-1],cost[j,down],cost[j,down+1]))\n",
    "    return seam\n",
    "\n",
    "height, width = diff.shape\n",
    "my_seam = get_seam(diff)\n",
    "\n",
    "# Show the seam in the squared difference with white pixels\n",
    "diff_seam = diff.copy()\n",
    "height, width = diff.shape\n",
    "for i in range(height):\n",
    "    diff_seam[i,int(my_seam[i])] = 255 * 255 # This is white squared\n",
    "plt.imshow(diff_seam,cmap='gray')\n",
    "print(height)\n",
    "print(width)"
   ]
  },
  {
   "cell_type": "code",
   "execution_count": null,
   "id": "86462d22-7e20-404c-897d-271d7262b64e",
   "metadata": {},
   "outputs": [],
   "source": [
    "rcParams['figure.figsize'] = (20,8)\n",
    "tinyL = imgL[:,widthL-overlap:]\n",
    "tinyR = imgR[:,:overlap]\n",
    "\n",
    "fig, ax = plt.subplots(1,2)\n",
    "ax[0].imshow(tinyL)\n",
    "ax[1].imshow(tinyR)"
   ]
  },
  {
   "cell_type": "code",
   "execution_count": null,
   "id": "64fa720d-d750-4175-832d-c82620f898f5",
   "metadata": {},
   "outputs": [],
   "source": [
    "# Turn both sections to grayscale\n",
    "tinyL_g = np.dot(tinyL[...,:3], [0.299,0.587,0.114])\n",
    "tinyR_g = np.dot(tinyR[...,:3], [0.299,0.587,0.114])\n",
    "\n",
    "# Calculate their squared difference\n",
    "diff = cv2.subtract(tinyL_g,tinyR_g)\n",
    "diff = cv2.multiply(diff,diff)\n",
    "\n",
    "# Display the squared difference\n",
    "plt.imshow(diff,cmap='gray')\n",
    "np.shape(diff)"
   ]
  },
  {
   "cell_type": "code",
   "execution_count": null,
   "id": "e4f698c8-02dc-4a4b-bdd2-c96a429f3bd3",
   "metadata": {},
   "outputs": [],
   "source": [
    "rcParams['figure.figsize'] = (20,28)\n",
    "height, width = diff.shape\n",
    "my_seam = get_seam(diff)\n",
    "\n",
    "# Show the seam in the squared difference with white pixels\n",
    "diff_seam = diff.copy()\n",
    "height, width = diff.shape\n",
    "for i in range(height):\n",
    "    diff_seam[i,int(my_seam[i])] = 255 * 255 # This is white squared\n",
    "plt.imshow(diff_seam,cmap='gray')\n",
    "print(height)\n",
    "print(width)"
   ]
  },
  {
   "cell_type": "code",
   "execution_count": null,
   "id": "22b0b415-5e53-4c0f-994f-61b90fe104be",
   "metadata": {},
   "outputs": [],
   "source": [
    "middle = tinyL.copy()    # Start with Left overlap.\n",
    "\n",
    "# For every row in the middle section, replace Left pixels with \n",
    "# Right pixels starting at the seam.\n",
    "for i in range(height):   \n",
    "    j = int(my_seam[i])\n",
    "    while j < width:\n",
    "        middle[i,j] = tinyR[i,j]\n",
    "        j += 1\n",
    "    \n",
    "# Now let's create a marked middle section to show the seam with red pixels.\n",
    "middle_marked = middle.copy()\n",
    "for i in range(height):\n",
    "    middle_marked[i,int(my_seam[i])] = np.array((255,0,0))\n",
    "        \n",
    "rcParams['figure.figsize'] = (20,28)        \n",
    "plt.imshow(middle_marked,cmap='gray')"
   ]
  },
  {
   "cell_type": "code",
   "execution_count": null,
   "id": "57a58996-5cb4-4066-bd9a-8164ba324b46",
   "metadata": {},
   "outputs": [],
   "source": [
    "cut_stitch = np.concatenate((imgL[:,:widthL-overlap], middle_marked), axis=1)\n",
    "cut_stitch = np.concatenate((cut_stitch, imgR[:,overlap:]), axis=1)\n",
    "plt.imshow(cut_stitch)"
   ]
  },
  {
   "cell_type": "code",
   "execution_count": null,
   "id": "6f4a096b-46a9-4d27-97cb-29ef9d4ac6a8",
   "metadata": {},
   "outputs": [],
   "source": [
    "\n",
    "cut_stitch = np.concatenate((imgL[:,:widthL-overlap], middle), axis=1)\n",
    "cut_stitch = np.concatenate((cut_stitch, imgR[:,overlap:]), axis=1)\n",
    "plt.imshow(cut_stitch)"
   ]
  },
  {
   "cell_type": "code",
   "execution_count": null,
   "id": "c54c0014-c2da-4a12-98b0-709776e2da78",
   "metadata": {},
   "outputs": [],
   "source": [
    "rcParams['figure.figsize'] = (20,10)\n",
    "\n",
    "tiny_stitch = stitch[int(heightL/2)-overlap*2:int(heightL/2)+overlap*2,widthL-overlap*2:widthL+overlap]\n",
    "tiny_cut_stitch = cut_stitch[int(heightL/2)-overlap*2:int(heightL/2)+overlap*2,widthL-overlap*2:widthL+overlap]\n",
    "\n",
    "fig, ax = plt.subplots(1,2)\n",
    "ax[0].imshow(tiny_stitch)\n",
    "ax[1].imshow(tiny_cut_stitch)"
   ]
  },
  {
   "cell_type": "code",
   "execution_count": null,
   "id": "d5dc07a0-7470-48b0-aa82-1b2bdece8ffa",
   "metadata": {},
   "outputs": [],
   "source": [
    "plt.imsave(\"stitched.bmp\",cut_stitch)"
   ]
  },
  {
   "cell_type": "code",
   "execution_count": null,
   "id": "b3c7dc9a-bae0-408a-9540-a7624486b316",
   "metadata": {},
   "outputs": [],
   "source": [
    "imgR = img[:,:870]\n",
    "imgL = img[:,870:]\n",
    "\n",
    "overlap = 70 \n",
    "heightL, widthL, temp = imgL.shape\n",
    "heightR, widthR, temp = imgR.shape\n",
    "\n",
    "stitch = np.concatenate((imgL[:,:widthL-int(overlap/2)], imgR[:,int(overlap/2):]), axis=1)\n",
    "\n",
    "# Left and righe overlap components.\n",
    "tinyL = imgL[:,widthL-overlap:]\n",
    "tinyR = imgR[:,:overlap]\n",
    "\n",
    "# Now let's caluclate their difference.\n",
    "# Turn both sections to grayscale\n",
    "tinyL_g = np.dot(tinyL[...,:3], [0.299,0.587,0.114])\n",
    "tinyR_g = np.dot(tinyR[...,:3], [0.299,0.587,0.114])\n",
    "\n",
    "# Calculate their squared difference\n",
    "diff = cv2.subtract(tinyL_g,tinyR_g)\n",
    "diff = cv2.multiply(diff,diff)\n",
    "\n",
    "# Let's calculate the seam for the squared difference\n",
    "height, width = diff.shape\n",
    "my_seam = get_seam(diff)\n",
    "\n",
    "\n",
    "# First let's create the middle section.\n",
    "middle = tinyL.copy()    # Start with Left overlap.\n",
    "# For every row in the middle section, replace Left pixels with \n",
    "# Right pixels starting at the seam.\n",
    "for i in range(height):   \n",
    "    j = int(my_seam[i])\n",
    "    while j < width:\n",
    "        middle[i,j] = tinyR[i,j]\n",
    "        j += 1\n",
    "        \n",
    "# Now let's create the stitched image.\n",
    "cut_stitch = np.concatenate((imgL[:,:widthL-overlap], middle), axis=1)\n",
    "cut_stitch = np.concatenate((cut_stitch, imgR[:,overlap:]), axis=1)\n",
    "plt.imshow(cut_stitch)"
   ]
  },
  {
   "cell_type": "code",
   "execution_count": null,
   "id": "27c46380-b8d2-436a-ac00-1b2940366c12",
   "metadata": {},
   "outputs": [],
   "source": [
    "rcParams['figure.figsize'] = (20,10)\n",
    "\n",
    "tiny_stitch = stitch[int(heightL/2)-overlap*2:int(heightL/2)+overlap*2,widthL-overlap*2:widthL+overlap]\n",
    "tiny_cut_stitch = cut_stitch[int(heightL/2)-overlap*2:int(heightL/2)+overlap*2,widthL-overlap*2:widthL+overlap]\n",
    "\n",
    "fig, ax = plt.subplots(1,2)\n",
    "ax[0].imshow(tiny_stitch)\n",
    "ax[1].imshow(tiny_cut_stitch)"
   ]
  },
  {
   "cell_type": "code",
   "execution_count": null,
   "id": "48c23e32-1dd2-49b7-a6fd-5bb5e5dfe23b",
   "metadata": {},
   "outputs": [],
   "source": [
    "tiny_stitch = stitch[750:,widthL-overlap*2:widthL+overlap]\n",
    "tiny_cut_stitch = cut_stitch[750:,widthL-overlap*2:widthL+overlap]\n",
    "\n",
    "fig, ax = plt.subplots(1,2)\n",
    "ax[0].imshow(tiny_stitch)\n",
    "ax[1].imshow(tiny_cut_stitch)"
   ]
  },
  {
   "cell_type": "code",
   "execution_count": null,
   "id": "2d37df7d-9db9-49a5-baed-9ce789dffef1",
   "metadata": {},
   "outputs": [],
   "source": []
  }
 ],
 "metadata": {
  "kernelspec": {
   "display_name": "Python 3 (ipykernel)",
   "language": "python",
   "name": "python3"
  },
  "language_info": {
   "codemirror_mode": {
    "name": "ipython",
    "version": 3
   },
   "file_extension": ".py",
   "mimetype": "text/x-python",
   "name": "python",
   "nbconvert_exporter": "python",
   "pygments_lexer": "ipython3",
   "version": "3.12.4"
  }
 },
 "nbformat": 4,
 "nbformat_minor": 5
}
