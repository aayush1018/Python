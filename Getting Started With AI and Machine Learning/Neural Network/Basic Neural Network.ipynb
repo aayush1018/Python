{
 "cells": [
  {
   "cell_type": "code",
   "execution_count": 40,
   "id": "3e2f288b-1a0a-438d-8dec-7c419d6b5022",
   "metadata": {},
   "outputs": [],
   "source": [
    "import pandas as pd\n",
    "from tensorflow.keras.models import Sequential\n",
    "from tensorflow.keras.layers import Dense\n",
    "import keras\n",
    "import numpy as np\n",
    "advertising_df = pd.read_csv(\"../Neural Network/Advertising_2023.csv\",index_col=0)"
   ]
  },
  {
   "cell_type": "code",
   "execution_count": 41,
   "id": "6187f9e3-0c92-48e9-af23-0676389ae8b3",
   "metadata": {},
   "outputs": [
    {
     "name": "stdout",
     "output_type": "stream",
     "text": [
      "<class 'pandas.core.frame.DataFrame'>\n",
      "Index: 1199 entries, 1 to 1197\n",
      "Data columns (total 5 columns):\n",
      " #   Column     Non-Null Count  Dtype  \n",
      "---  ------     --------------  -----  \n",
      " 0   digital    1199 non-null   float64\n",
      " 1   TV         1199 non-null   float64\n",
      " 2   radio      1199 non-null   float64\n",
      " 3   newspaper  1199 non-null   float64\n",
      " 4   sales      1199 non-null   float64\n",
      "dtypes: float64(5)\n",
      "memory usage: 56.2 KB\n"
     ]
    }
   ],
   "source": [
    "advertising_df.info()"
   ]
  },
  {
   "cell_type": "code",
   "execution_count": 42,
   "id": "9f5d78e6-678c-473d-8806-d4dfb019a9e0",
   "metadata": {},
   "outputs": [
    {
     "data": {
      "text/plain": [
       "(1199, 5)"
      ]
     },
     "execution_count": 42,
     "metadata": {},
     "output_type": "execute_result"
    }
   ],
   "source": [
    "advertising_df.shape"
   ]
  },
  {
   "cell_type": "code",
   "execution_count": 43,
   "id": "e1a215a3-8fe2-4340-8692-9d861a3e344e",
   "metadata": {},
   "outputs": [
    {
     "data": {
      "text/plain": [
       "digital      0\n",
       "TV           0\n",
       "radio        0\n",
       "newspaper    0\n",
       "sales        0\n",
       "dtype: int64"
      ]
     },
     "execution_count": 43,
     "metadata": {},
     "output_type": "execute_result"
    }
   ],
   "source": [
    "#the isnull() method is used to check and manage null values in a data frame\n",
    "advertising_df.isnull().sum()"
   ]
  },
  {
   "cell_type": "code",
   "execution_count": 44,
   "id": "4a0944cf-554c-491b-b90d-630fedfaa54c",
   "metadata": {},
   "outputs": [],
   "source": [
    "X = advertising_df[['digital', 'TV', 'radio', 'newspaper']]\n",
    "y = advertising_df[['sales']]"
   ]
  },
  {
   "cell_type": "code",
   "execution_count": 45,
   "id": "4598a2cd-d922-4833-9a94-e172d29b664d",
   "metadata": {},
   "outputs": [
    {
     "name": "stdout",
     "output_type": "stream",
     "text": [
      "[[0.89211961 0.4032179  0.0977028  0.17886333]\n",
      " [0.66254734 0.45658693 0.39008405 0.44765371]\n",
      " [0.29009225 0.20576311 0.51609436 0.77920128]\n",
      " ...\n",
      " [0.06744611 0.99272247 0.05163843 0.08536149]\n",
      " [0.19480049 0.91868871 0.08898294 0.33188231]\n",
      " [0.06744611 0.99272247 0.05163843 0.08536149]]\n"
     ]
    }
   ],
   "source": [
    "normalized_feature = keras.utils.normalize(X.values)\n",
    "print(normalized_feature)"
   ]
  },
  {
   "cell_type": "code",
   "execution_count": 46,
   "id": "f0e8b7ed-0996-4c7a-b325-e10b360217d0",
   "metadata": {},
   "outputs": [],
   "source": [
    "from sklearn.model_selection import train_test_split\n",
    "\n",
    "X_train,X_test, y_train,y_test = train_test_split(X,y, test_size=0.4, random_state=101)"
   ]
  },
  {
   "cell_type": "code",
   "execution_count": 47,
   "id": "88b8086d-53b5-46f5-8fab-3c5af04f0289",
   "metadata": {},
   "outputs": [
    {
     "name": "stdout",
     "output_type": "stream",
     "text": [
      "(719, 4) (480, 4) (719, 1) (480, 1)\n"
     ]
    }
   ],
   "source": [
    "print(X_train.shape, X_test.shape, y_train.shape, y_test.shape)"
   ]
  },
  {
   "cell_type": "code",
   "execution_count": 48,
   "id": "44992125-16d7-466e-82f3-a38d41eced6a",
   "metadata": {},
   "outputs": [],
   "source": [
    "model = Sequential()\n",
    "model.add(Dense(4, activation=\"relu\"))\n",
    "model.add(Dense(3, activation=\"relu\"))\n",
    "model.add(Dense(1))"
   ]
  },
  {
   "cell_type": "code",
   "execution_count": 49,
   "id": "cb438808-b325-4169-80f3-45385340c3c4",
   "metadata": {},
   "outputs": [],
   "source": [
    "model.compile(optimizer=\"adam\", loss=\"mse\", metrics=[\"mse\"])"
   ]
  },
  {
   "cell_type": "code",
   "execution_count": 50,
   "id": "399593d0-0f10-452a-b613-aa9adf78a830",
   "metadata": {},
   "outputs": [
    {
     "name": "stdout",
     "output_type": "stream",
     "text": [
      "Epoch 1/32\n",
      "\u001b[1m23/23\u001b[0m \u001b[32m━━━━━━━━━━━━━━━━━━━━\u001b[0m\u001b[37m\u001b[0m \u001b[1m1s\u001b[0m 13ms/step - loss: 115.3840 - mse: 115.3840 - val_loss: 78.5767 - val_mse: 78.5767\n",
      "Epoch 2/32\n",
      "\u001b[1m23/23\u001b[0m \u001b[32m━━━━━━━━━━━━━━━━━━━━\u001b[0m\u001b[37m\u001b[0m \u001b[1m0s\u001b[0m 6ms/step - loss: 66.0110 - mse: 66.0110 - val_loss: 54.2158 - val_mse: 54.2158\n",
      "Epoch 3/32\n",
      "\u001b[1m23/23\u001b[0m \u001b[32m━━━━━━━━━━━━━━━━━━━━\u001b[0m\u001b[37m\u001b[0m \u001b[1m0s\u001b[0m 7ms/step - loss: 47.2196 - mse: 47.2196 - val_loss: 37.7892 - val_mse: 37.7892\n",
      "Epoch 4/32\n",
      "\u001b[1m23/23\u001b[0m \u001b[32m━━━━━━━━━━━━━━━━━━━━\u001b[0m\u001b[37m\u001b[0m \u001b[1m0s\u001b[0m 6ms/step - loss: 32.2594 - mse: 32.2594 - val_loss: 27.0811 - val_mse: 27.0811\n",
      "Epoch 5/32\n",
      "\u001b[1m23/23\u001b[0m \u001b[32m━━━━━━━━━━━━━━━━━━━━\u001b[0m\u001b[37m\u001b[0m \u001b[1m0s\u001b[0m 6ms/step - loss: 21.0496 - mse: 21.0496 - val_loss: 19.8970 - val_mse: 19.8970\n",
      "Epoch 6/32\n",
      "\u001b[1m23/23\u001b[0m \u001b[32m━━━━━━━━━━━━━━━━━━━━\u001b[0m\u001b[37m\u001b[0m \u001b[1m0s\u001b[0m 6ms/step - loss: 16.3071 - mse: 16.3071 - val_loss: 15.0241 - val_mse: 15.0241\n",
      "Epoch 7/32\n",
      "\u001b[1m23/23\u001b[0m \u001b[32m━━━━━━━━━━━━━━━━━━━━\u001b[0m\u001b[37m\u001b[0m \u001b[1m0s\u001b[0m 6ms/step - loss: 12.3619 - mse: 12.3619 - val_loss: 11.8844 - val_mse: 11.8844\n",
      "Epoch 8/32\n",
      "\u001b[1m23/23\u001b[0m \u001b[32m━━━━━━━━━━━━━━━━━━━━\u001b[0m\u001b[37m\u001b[0m \u001b[1m0s\u001b[0m 6ms/step - loss: 10.1628 - mse: 10.1628 - val_loss: 9.7534 - val_mse: 9.7534\n",
      "Epoch 9/32\n",
      "\u001b[1m23/23\u001b[0m \u001b[32m━━━━━━━━━━━━━━━━━━━━\u001b[0m\u001b[37m\u001b[0m \u001b[1m0s\u001b[0m 9ms/step - loss: 8.4905 - mse: 8.4905 - val_loss: 8.3334 - val_mse: 8.3334\n",
      "Epoch 10/32\n",
      "\u001b[1m23/23\u001b[0m \u001b[32m━━━━━━━━━━━━━━━━━━━━\u001b[0m\u001b[37m\u001b[0m \u001b[1m0s\u001b[0m 6ms/step - loss: 6.8999 - mse: 6.8999 - val_loss: 7.3883 - val_mse: 7.3883\n",
      "Epoch 11/32\n",
      "\u001b[1m23/23\u001b[0m \u001b[32m━━━━━━━━━━━━━━━━━━━━\u001b[0m\u001b[37m\u001b[0m \u001b[1m0s\u001b[0m 6ms/step - loss: 6.3855 - mse: 6.3855 - val_loss: 6.7356 - val_mse: 6.7356\n",
      "Epoch 12/32\n",
      "\u001b[1m23/23\u001b[0m \u001b[32m━━━━━━━━━━━━━━━━━━━━\u001b[0m\u001b[37m\u001b[0m \u001b[1m0s\u001b[0m 6ms/step - loss: 6.2272 - mse: 6.2272 - val_loss: 6.1052 - val_mse: 6.1052\n",
      "Epoch 13/32\n",
      "\u001b[1m23/23\u001b[0m \u001b[32m━━━━━━━━━━━━━━━━━━━━\u001b[0m\u001b[37m\u001b[0m \u001b[1m0s\u001b[0m 6ms/step - loss: 5.2157 - mse: 5.2157 - val_loss: 5.8044 - val_mse: 5.8044\n",
      "Epoch 14/32\n",
      "\u001b[1m23/23\u001b[0m \u001b[32m━━━━━━━━━━━━━━━━━━━━\u001b[0m\u001b[37m\u001b[0m \u001b[1m0s\u001b[0m 6ms/step - loss: 5.0532 - mse: 5.0532 - val_loss: 5.3618 - val_mse: 5.3618\n",
      "Epoch 15/32\n",
      "\u001b[1m23/23\u001b[0m \u001b[32m━━━━━━━━━━━━━━━━━━━━\u001b[0m\u001b[37m\u001b[0m \u001b[1m0s\u001b[0m 6ms/step - loss: 4.6274 - mse: 4.6274 - val_loss: 5.0399 - val_mse: 5.0399\n",
      "Epoch 16/32\n",
      "\u001b[1m23/23\u001b[0m \u001b[32m━━━━━━━━━━━━━━━━━━━━\u001b[0m\u001b[37m\u001b[0m \u001b[1m0s\u001b[0m 5ms/step - loss: 4.6352 - mse: 4.6352 - val_loss: 4.7871 - val_mse: 4.7871\n",
      "Epoch 17/32\n",
      "\u001b[1m23/23\u001b[0m \u001b[32m━━━━━━━━━━━━━━━━━━━━\u001b[0m\u001b[37m\u001b[0m \u001b[1m0s\u001b[0m 6ms/step - loss: 4.0289 - mse: 4.0289 - val_loss: 4.6478 - val_mse: 4.6478\n",
      "Epoch 18/32\n",
      "\u001b[1m23/23\u001b[0m \u001b[32m━━━━━━━━━━━━━━━━━━━━\u001b[0m\u001b[37m\u001b[0m \u001b[1m0s\u001b[0m 6ms/step - loss: 3.9410 - mse: 3.9410 - val_loss: 4.5008 - val_mse: 4.5008\n",
      "Epoch 19/32\n",
      "\u001b[1m23/23\u001b[0m \u001b[32m━━━━━━━━━━━━━━━━━━━━\u001b[0m\u001b[37m\u001b[0m \u001b[1m0s\u001b[0m 6ms/step - loss: 4.0070 - mse: 4.0070 - val_loss: 4.3201 - val_mse: 4.3201\n",
      "Epoch 20/32\n",
      "\u001b[1m23/23\u001b[0m \u001b[32m━━━━━━━━━━━━━━━━━━━━\u001b[0m\u001b[37m\u001b[0m \u001b[1m0s\u001b[0m 6ms/step - loss: 3.8722 - mse: 3.8722 - val_loss: 4.4315 - val_mse: 4.4315\n",
      "Epoch 21/32\n",
      "\u001b[1m23/23\u001b[0m \u001b[32m━━━━━━━━━━━━━━━━━━━━\u001b[0m\u001b[37m\u001b[0m \u001b[1m0s\u001b[0m 6ms/step - loss: 3.6253 - mse: 3.6253 - val_loss: 4.0059 - val_mse: 4.0059\n",
      "Epoch 22/32\n",
      "\u001b[1m23/23\u001b[0m \u001b[32m━━━━━━━━━━━━━━━━━━━━\u001b[0m\u001b[37m\u001b[0m \u001b[1m0s\u001b[0m 6ms/step - loss: 3.7085 - mse: 3.7085 - val_loss: 4.0238 - val_mse: 4.0238\n",
      "Epoch 23/32\n",
      "\u001b[1m23/23\u001b[0m \u001b[32m━━━━━━━━━━━━━━━━━━━━\u001b[0m\u001b[37m\u001b[0m \u001b[1m0s\u001b[0m 6ms/step - loss: 3.9031 - mse: 3.9031 - val_loss: 3.8921 - val_mse: 3.8921\n",
      "Epoch 24/32\n",
      "\u001b[1m23/23\u001b[0m \u001b[32m━━━━━━━━━━━━━━━━━━━━\u001b[0m\u001b[37m\u001b[0m \u001b[1m0s\u001b[0m 6ms/step - loss: 3.3554 - mse: 3.3554 - val_loss: 3.7591 - val_mse: 3.7591\n",
      "Epoch 25/32\n",
      "\u001b[1m23/23\u001b[0m \u001b[32m━━━━━━━━━━━━━━━━━━━━\u001b[0m\u001b[37m\u001b[0m \u001b[1m0s\u001b[0m 6ms/step - loss: 3.5465 - mse: 3.5465 - val_loss: 3.6725 - val_mse: 3.6725\n",
      "Epoch 26/32\n",
      "\u001b[1m23/23\u001b[0m \u001b[32m━━━━━━━━━━━━━━━━━━━━\u001b[0m\u001b[37m\u001b[0m \u001b[1m0s\u001b[0m 6ms/step - loss: 3.6045 - mse: 3.6045 - val_loss: 3.6141 - val_mse: 3.6141\n",
      "Epoch 27/32\n",
      "\u001b[1m23/23\u001b[0m \u001b[32m━━━━━━━━━━━━━━━━━━━━\u001b[0m\u001b[37m\u001b[0m \u001b[1m0s\u001b[0m 6ms/step - loss: 3.4886 - mse: 3.4886 - val_loss: 3.5490 - val_mse: 3.5490\n",
      "Epoch 28/32\n",
      "\u001b[1m23/23\u001b[0m \u001b[32m━━━━━━━━━━━━━━━━━━━━\u001b[0m\u001b[37m\u001b[0m \u001b[1m0s\u001b[0m 7ms/step - loss: 3.2983 - mse: 3.2983 - val_loss: 3.4932 - val_mse: 3.4932\n",
      "Epoch 29/32\n",
      "\u001b[1m23/23\u001b[0m \u001b[32m━━━━━━━━━━━━━━━━━━━━\u001b[0m\u001b[37m\u001b[0m \u001b[1m0s\u001b[0m 7ms/step - loss: 3.3396 - mse: 3.3396 - val_loss: 3.5455 - val_mse: 3.5455\n",
      "Epoch 30/32\n",
      "\u001b[1m23/23\u001b[0m \u001b[32m━━━━━━━━━━━━━━━━━━━━\u001b[0m\u001b[37m\u001b[0m \u001b[1m0s\u001b[0m 7ms/step - loss: 3.1651 - mse: 3.1651 - val_loss: 3.4221 - val_mse: 3.4221\n",
      "Epoch 31/32\n",
      "\u001b[1m23/23\u001b[0m \u001b[32m━━━━━━━━━━━━━━━━━━━━\u001b[0m\u001b[37m\u001b[0m \u001b[1m0s\u001b[0m 6ms/step - loss: 3.0936 - mse: 3.0936 - val_loss: 3.3717 - val_mse: 3.3717\n",
      "Epoch 32/32\n",
      "\u001b[1m23/23\u001b[0m \u001b[32m━━━━━━━━━━━━━━━━━━━━\u001b[0m\u001b[37m\u001b[0m \u001b[1m0s\u001b[0m 6ms/step - loss: 3.1448 - mse: 3.1448 - val_loss: 3.3323 - val_mse: 3.3323\n"
     ]
    }
   ],
   "source": [
    "history =model.fit(X_train,y_train, validation_data = (X_test, y_test), epochs = 32)"
   ]
  },
  {
   "cell_type": "code",
   "execution_count": 51,
   "id": "cd9f885f-aec5-4eb4-b910-7fa89eccb576",
   "metadata": {},
   "outputs": [
    {
     "name": "stdout",
     "output_type": "stream",
     "text": [
      "\u001b[1m15/15\u001b[0m \u001b[32m━━━━━━━━━━━━━━━━━━━━\u001b[0m\u001b[37m\u001b[0m \u001b[1m0s\u001b[0m 3ms/step \n",
      "[26.338903  18.871262  16.21418   22.214994  17.104307  26.099936\n",
      " 12.340547  21.24848   18.764544  14.648035   6.417047  16.43935\n",
      "  5.0201006  8.040227  10.375754   6.5115933 22.212637  15.691591\n",
      "  3.356727  17.729292  22.421083   6.106065  11.508493  11.736318\n",
      "  8.230556   2.8094711 14.480036  17.268297  11.6906805 11.006479\n",
      " 14.646374  17.30362   20.077806  15.61987   19.667458  11.414293\n",
      " 24.68656   15.335747  12.703423  17.951925  15.617473  14.8382435\n",
      "  7.294542  15.691201  14.650194  14.48119    6.670537  24.68656\n",
      " 14.726411   9.018759   8.989531  10.375754  11.352779  15.93959\n",
      "  3.6546645 18.231188  16.735292  21.59884    8.713801  12.774889\n",
      " 12.647983  11.689016  12.711026  13.462107   7.974431  12.819428\n",
      "  8.990612  21.597298   6.561641  22.589956   6.4171467 23.657797\n",
      "  7.295147  20.161406  13.972152  16.394594  18.079271  13.43915\n",
      " 17.30362   20.407862  17.798695  19.38002   17.730215  16.984623\n",
      " 16.393816  19.771492  11.361182   9.018503   3.6630883 11.186443\n",
      " 22.171183  11.006479  12.03438    8.213697  10.849699  20.159365\n",
      "  4.814192  22.214994  25.727903  11.618703   4.3568497 15.012067\n",
      "  9.667448  10.66104   23.655645  22.589956   5.830414   6.9380035\n",
      "  8.213211  10.880028  11.508493   5.5653305 10.849388  21.616297\n",
      " 13.407975  19.570902   4.3568497 21.148943  26.280243   8.188556\n",
      " 17.30362   21.147017  19.38002    3.135014  21.779951  19.490368\n",
      " 18.220198   6.9375553  4.9529343 26.28263   11.353953   3.356727\n",
      " 19.568909  16.024506  12.834996  21.61468    8.956972  14.768196\n",
      " 13.99104   20.079334   6.9375553 13.972152  11.6373    16.735292\n",
      "  4.814192   4.8148994  9.674997  25.76655    8.312205  17.015999\n",
      " 15.691591  14.052505   8.597133   9.941252  26.336466  14.052505\n",
      " 13.972152  18.233545  20.141684  11.179022  19.570902  14.648035\n",
      " 21.437563  23.655645   5.8481054 18.07736    5.8276725  4.818402\n",
      "  8.713464  11.969076  16.046108   9.667587  18.205547  21.246782\n",
      "  9.018759  14.648035  24.492125  21.147287  14.213495  22.59239\n",
      " 10.981613   5.794307  14.995643  26.09736   20.446115   8.230556\n",
      "  6.561558  14.767223   7.011338  20.132236  17.821688  13.691292\n",
      "  8.231204  12.647983  11.279579   4.3568497 14.48119   13.558069\n",
      "  8.597133  16.91101    2.8465447 18.22167   16.025776   7.561569\n",
      "  5.825903  13.462107   3.6630883  1.474487   9.0222845  9.535928\n",
      " 21.10776   17.823465  16.186817  17.798695  10.111108  22.16931\n",
      " 15.848678   9.01927   14.022135  10.981613   8.213211  15.617473\n",
      " 16.025776   8.312205  17.823465   9.01927    6.5115933 18.07736\n",
      "  9.297537  11.0746975 19.490368   5.825903  17.730215   8.760391\n",
      " 16.393349  12.561165   5.8472867 26.28263   22.59239    7.4199066\n",
      " 12.1662655  6.670537  15.9380245 24.845304  15.9380245 11.186443\n",
      "  3.6630883  9.018759  14.725998  15.351769  12.9771185 12.164476\n",
      " 12.701466   5.329306  17.265837   8.311996  16.98323   16.393349\n",
      "  9.179804  12.562692  18.22167   22.989283  15.848678  19.90664\n",
      " 12.774889  16.04776   20.408052  16.216793  14.663729  10.880028\n",
      " 14.052505  24.489916  18.287533  13.531869  12.561165  14.213495\n",
      "  5.427206  14.044112  19.087814  16.744278  26.280243  10.850586\n",
      " 18.762562   4.7883925 16.98323   14.181851  15.776137  18.762562\n",
      "  5.650453  20.446115  11.509947  21.61817    8.231204  20.132236\n",
      " 12.647998  18.285915   9.790367   5.510991   6.5607424 21.36614\n",
      " 23.08763   16.187521   6.0722976 21.363646   4.2526765 15.362464\n",
      " 22.249516   9.677782  14.280726  20.143488  25.764029   6.0729103\n",
      "  7.7682104 14.767223  21.616297   2.8094711 15.8503685 11.179022\n",
      "  8.188556  23.089842  16.742441  19.491966  14.836573  22.212637\n",
      "  9.941252  11.6373    17.797106  14.48119   12.786942   5.830414\n",
      "  5.8276725 12.03438    8.956591  25.72556   16.664547  21.437563\n",
      " 17.017447  11.0746975 16.04776   10.051061  10.982808  25.72556\n",
      " 12.42275   11.6373    18.737577   4.2526765 20.161406  12.673934\n",
      "  3.202392  22.421083  18.22167    2.8465447 11.075544  19.01386\n",
      "  8.990612  11.637517  17.302439  11.187521  17.268297  14.993342\n",
      " 14.394717   5.1544323  8.6746645 11.689016   9.178549   5.1544323\n",
      "  8.598145   9.790917  22.59239   16.466684  14.662338  16.984623\n",
      " 13.639099   3.6546645  8.640276  12.701466   4.7883925  8.312205\n",
      "  1.474487  12.647983   9.676968  15.848513  15.335747  10.050181\n",
      " 15.182045  16.437752   5.7723885 16.666666  15.362464  13.5322485\n",
      " 18.800577  10.881474  16.392626  16.43935   12.42275   14.650194\n",
      " 19.904856  15.335747   7.295147  10.849699  15.536095  24.492125\n",
      " 24.84286   16.394594  24.688686  21.781689  14.445675  17.116394\n",
      "  5.0201006  4.818402  13.531869  14.180007  16.909304   6.865911\n",
      "  6.561641   6.0722976 26.338903  13.439678  15.362464   8.713464\n",
      " 10.849863  15.536095  24.492125  16.744278  16.392626   6.022037\n",
      " 19.241968   9.677782  17.729292  21.61468   20.141684   6.561558\n",
      "  3.6546645 14.051882  19.241968  16.744278  20.143488  10.8508835\n",
      "  6.105898  15.012067  25.764029   7.1753545 11.179022  12.773117\n",
      " 17.950983  14.767687  18.762562  19.568909   3.1937652 13.992308\n",
      "  9.666979   4.2526765 21.36614   22.21419    8.714619   9.750732\n",
      " 18.799566  17.116394   4.5390177 17.823465  17.104307  18.737577\n",
      " 15.109899  17.026232  23.021338   6.106065  17.116394   3.1937652\n",
      " 26.336466  17.268297  20.077806  12.711026  11.006479  22.989283\n",
      " 18.869768  14.051882  12.711026  14.215172   2.8094711 14.396626 ]\n"
     ]
    }
   ],
   "source": [
    "test_predictions= model.predict(X_test).flatten()\n",
    "print(test_predictions)"
   ]
  },
  {
   "cell_type": "code",
   "execution_count": 52,
   "id": "bf8618ca-cb9d-44e7-a112-576da2e906a2",
   "metadata": {},
   "outputs": [
    {
     "data": {
      "text/html": [
       "<div>\n",
       "<style scoped>\n",
       "    .dataframe tbody tr th:only-of-type {\n",
       "        vertical-align: middle;\n",
       "    }\n",
       "\n",
       "    .dataframe tbody tr th {\n",
       "        vertical-align: top;\n",
       "    }\n",
       "\n",
       "    .dataframe thead th {\n",
       "        text-align: right;\n",
       "    }\n",
       "</style>\n",
       "<table border=\"1\" class=\"dataframe\">\n",
       "  <thead>\n",
       "    <tr style=\"text-align: right;\">\n",
       "      <th></th>\n",
       "      <th>True Value</th>\n",
       "      <th>Predicted Value</th>\n",
       "    </tr>\n",
       "  </thead>\n",
       "  <tbody>\n",
       "    <tr>\n",
       "      <th>0</th>\n",
       "      <td>sales</td>\n",
       "      <td>26.338903</td>\n",
       "    </tr>\n",
       "  </tbody>\n",
       "</table>\n",
       "</div>"
      ],
      "text/plain": [
       "  True Value  Predicted Value\n",
       "0      sales        26.338903"
      ]
     },
     "execution_count": 52,
     "metadata": {},
     "output_type": "execute_result"
    }
   ],
   "source": [
    "true_predicted = pd.DataFrame(list(zip(y_test, test_predictions)), columns=[\"True Value\", \"Predicted Value\"])\n",
    "true_predicted.head()"
   ]
  },
  {
   "cell_type": "code",
   "execution_count": 57,
   "id": "131e1de3-6ce8-476e-a6bb-1009fce06405",
   "metadata": {},
   "outputs": [
    {
     "name": "stdout",
     "output_type": "stream",
     "text": [
      "\u001b[1m23/23\u001b[0m \u001b[32m━━━━━━━━━━━━━━━━━━━━\u001b[0m\u001b[37m\u001b[0m \u001b[1m0s\u001b[0m 2ms/step \n",
      "1.7376091161262208\n",
      "\u001b[1m15/15\u001b[0m \u001b[32m━━━━━━━━━━━━━━━━━━━━\u001b[0m\u001b[37m\u001b[0m \u001b[1m0s\u001b[0m 2ms/step \n",
      "1.8254485140926735\n"
     ]
    }
   ],
   "source": [
    "\n",
    "from sklearn.metrics import mean_squared_error\n",
    "import numpy as np\n",
    "\n",
    "pred_train = model.predict(X_train)\n",
    "rmse = np.sqrt(mean_squared_error(y_train, pred_train))\n",
    "print(rmse)\n",
    "\n",
    "pred = model.predict(X_test)\n",
    "rmse1 = np.sqrt(mean_squared_error(y_test, pred))\n",
    "print(rmse1)"
   ]
  },
  {
   "cell_type": "code",
   "execution_count": null,
   "id": "3c0630cd-69dd-407b-a4f0-ddabcf50a832",
   "metadata": {},
   "outputs": [],
   "source": []
  }
 ],
 "metadata": {
  "kernelspec": {
   "display_name": "Python 3 (ipykernel)",
   "language": "python",
   "name": "python3"
  },
  "language_info": {
   "codemirror_mode": {
    "name": "ipython",
    "version": 3
   },
   "file_extension": ".py",
   "mimetype": "text/x-python",
   "name": "python",
   "nbconvert_exporter": "python",
   "pygments_lexer": "ipython3",
   "version": "3.10.16"
  }
 },
 "nbformat": 4,
 "nbformat_minor": 5
}
