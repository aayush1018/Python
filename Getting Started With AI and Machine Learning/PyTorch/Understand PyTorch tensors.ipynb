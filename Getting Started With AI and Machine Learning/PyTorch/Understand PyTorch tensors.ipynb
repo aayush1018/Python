{
 "cells": [
  {
   "cell_type": "raw",
   "id": "0ddcf14b-afea-478b-8b1b-720606a93633",
   "metadata": {},
   "source": []
  },
  {
   "cell_type": "code",
   "execution_count": 1,
   "id": "64b12321-9289-49d3-b39f-1889dbc505fb",
   "metadata": {},
   "outputs": [],
   "source": [
    "import torch"
   ]
  },
  {
   "cell_type": "code",
   "execution_count": 3,
   "id": "3ca1cae6-5bbe-463e-8f4a-e49f44e8aa3c",
   "metadata": {},
   "outputs": [
    {
     "name": "stdout",
     "output_type": "stream",
     "text": [
      "tensor(1000)\n",
      "tensor([9, 8, 7, 6])\n",
      "tensor([[1, 2, 3],\n",
      "        [7, 5, 3]])\n"
     ]
    }
   ],
   "source": [
    "#creating some tensors\n",
    "t0 = torch.tensor(1000) #0-D tensor\n",
    "t1 = torch.tensor([9, 8, 7, 6]) #1-D tensor\n",
    "t2 = torch.tensor([[1,2,3],[7,5,3]]) #2-D tensor\n",
    "\n",
    "print(t0)\n",
    "print(t1)\n",
    "print(t2)"
   ]
  },
  {
   "cell_type": "code",
   "execution_count": 4,
   "id": "af5a94da-30d1-4aa5-ab32-2500801b2d8f",
   "metadata": {},
   "outputs": [
    {
     "name": "stdout",
     "output_type": "stream",
     "text": [
      "tensor([[1, 1, 1],\n",
      "        [1, 1, 1]], dtype=torch.int16)\n"
     ]
    }
   ],
   "source": [
    "a = torch.ones((2,3), dtype= torch.int16)\n",
    "print(a)"
   ]
  },
  {
   "cell_type": "code",
   "execution_count": 5,
   "id": "8b4b2b1c-5f7a-4cd0-9549-f5b4e446111b",
   "metadata": {},
   "outputs": [
    {
     "data": {
      "text/plain": [
       "' Tensor data types\\ntorch.bool\\ntorch.int8\\ntorch.uint8\\ntorch.int16\\ntorch.int32\\ntorch.int64\\ntorch.half\\ntorch.float\\ntorch.double\\ntorch.bfloat\\n'"
      ]
     },
     "execution_count": 5,
     "metadata": {},
     "output_type": "execute_result"
    }
   ],
   "source": [
    "#Different datatypes in torch\n",
    "\"\"\" Tensor data types\n",
    "torch.bool\n",
    "torch.int8\n",
    "torch.uint8\n",
    "torch.int16\n",
    "torch.int32\n",
    "torch.int64\n",
    "torch.half\n",
    "torch.float\n",
    "torch.double\n",
    "torch.bfloat\n",
    "\"\"\""
   ]
  },
  {
   "cell_type": "code",
   "execution_count": 6,
   "id": "0d71b073-6db6-4fe4-b42a-029ccd7b343f",
   "metadata": {},
   "outputs": [
    {
     "name": "stdout",
     "output_type": "stream",
     "text": [
      "torch.Size([2, 3])\n",
      "torch.Size([2, 3])\n"
     ]
    }
   ],
   "source": [
    "print(a.shape)\n",
    "print(a.size())"
   ]
  },
  {
   "cell_type": "code",
   "execution_count": 7,
   "id": "b2833ad0-cfe5-485d-88e3-69bb120bb360",
   "metadata": {},
   "outputs": [
    {
     "name": "stdout",
     "output_type": "stream",
     "text": [
      "2\n",
      "2\n"
     ]
    }
   ],
   "source": [
    "#print tensor dimension\n",
    "print(a.ndimension())\n",
    "print(a.ndim)"
   ]
  },
  {
   "cell_type": "code",
   "execution_count": null,
   "id": "5d05006b-9549-4ba6-b707-70d96d879399",
   "metadata": {},
   "outputs": [],
   "source": []
  }
 ],
 "metadata": {
  "kernelspec": {
   "display_name": "Python 3 (ipykernel)",
   "language": "python",
   "name": "python3"
  },
  "language_info": {
   "codemirror_mode": {
    "name": "ipython",
    "version": 3
   },
   "file_extension": ".py",
   "mimetype": "text/x-python",
   "name": "python",
   "nbconvert_exporter": "python",
   "pygments_lexer": "ipython3",
   "version": "3.12.4"
  }
 },
 "nbformat": 4,
 "nbformat_minor": 5
}
