{
 "cells": [
  {
   "cell_type": "code",
   "execution_count": 1,
   "id": "6820eb2f-b973-4f61-9c7c-74864170681d",
   "metadata": {},
   "outputs": [],
   "source": [
    "import torch"
   ]
  },
  {
   "cell_type": "code",
   "execution_count": 2,
   "id": "a95b0199-2267-4d8a-a481-1fe6ed85d7c9",
   "metadata": {},
   "outputs": [
    {
     "name": "stdout",
     "output_type": "stream",
     "text": [
      "tensor([ 2, 16])\n",
      "torch.Size([2])\n",
      "1\n"
     ]
    }
   ],
   "source": [
    "# simple operation rehash\n",
    "u = torch.tensor([2, 4])\n",
    "v = torch.tensor([1, 4])\n",
    "w = u * v\n",
    "print(w)\n",
    "print(w.shape)\n",
    "print(w.ndim)"
   ]
  },
  {
   "cell_type": "code",
   "execution_count": 3,
   "id": "4be72ed9-2f39-4fc7-8939-bb5af72749b7",
   "metadata": {},
   "outputs": [
    {
     "name": "stdout",
     "output_type": "stream",
     "text": [
      "tensor([[[0.1443, 0.2164],\n",
      "         [0.2439, 0.1538],\n",
      "         [0.8581, 0.3757]],\n",
      "\n",
      "        [[0.1443, 0.2164],\n",
      "         [0.2439, 0.1538],\n",
      "         [0.8581, 0.3757]],\n",
      "\n",
      "        [[0.1443, 0.2164],\n",
      "         [0.2439, 0.1538],\n",
      "         [0.8581, 0.3757]],\n",
      "\n",
      "        [[0.1443, 0.2164],\n",
      "         [0.2439, 0.1538],\n",
      "         [0.8581, 0.3757]]])\n"
     ]
    }
   ],
   "source": [
    "# broadcasting rules \n",
    "a =     torch.ones(4, 3, 2)\n",
    "b = a * torch.rand(   3, 2) # 3rd & 2nd dims identical to a, dim 1 absent\n",
    "print(b)"
   ]
  },
  {
   "cell_type": "code",
   "execution_count": 4,
   "id": "66fdddac-65d1-470f-b53a-a0090245ce22",
   "metadata": {},
   "outputs": [
    {
     "name": "stdout",
     "output_type": "stream",
     "text": [
      "tensor([[[0.8479, 0.8479],\n",
      "         [0.5870, 0.5870],\n",
      "         [0.6021, 0.6021]],\n",
      "\n",
      "        [[0.8479, 0.8479],\n",
      "         [0.5870, 0.5870],\n",
      "         [0.6021, 0.6021]],\n",
      "\n",
      "        [[0.8479, 0.8479],\n",
      "         [0.5870, 0.5870],\n",
      "         [0.6021, 0.6021]],\n",
      "\n",
      "        [[0.8479, 0.8479],\n",
      "         [0.5870, 0.5870],\n",
      "         [0.6021, 0.6021]]])\n"
     ]
    }
   ],
   "source": [
    "c = a * torch.rand(   3, 1) # 3rd dim = 1, 2nd dim identical to a\n",
    "print(c)"
   ]
  },
  {
   "cell_type": "code",
   "execution_count": 5,
   "id": "5eb8469e-5de0-4f5c-acbc-be96e1571b17",
   "metadata": {},
   "outputs": [
    {
     "name": "stdout",
     "output_type": "stream",
     "text": [
      "tensor([[[0.2493, 0.8249],\n",
      "         [0.2493, 0.8249],\n",
      "         [0.2493, 0.8249]],\n",
      "\n",
      "        [[0.2493, 0.8249],\n",
      "         [0.2493, 0.8249],\n",
      "         [0.2493, 0.8249]],\n",
      "\n",
      "        [[0.2493, 0.8249],\n",
      "         [0.2493, 0.8249],\n",
      "         [0.2493, 0.8249]],\n",
      "\n",
      "        [[0.2493, 0.8249],\n",
      "         [0.2493, 0.8249],\n",
      "         [0.2493, 0.8249]]])\n"
     ]
    }
   ],
   "source": [
    "d = a * torch.rand(   1, 2) # 3rd dim identical to a, 2nd dim = 1\n",
    "print(d)"
   ]
  },
  {
   "cell_type": "code",
   "execution_count": 6,
   "id": "710d19f5-1135-437b-9e4d-97f8b99a1060",
   "metadata": {},
   "outputs": [
    {
     "name": "stdout",
     "output_type": "stream",
     "text": [
      "[[1. 1. 1.]\n",
      " [1. 1. 1.]]\n",
      "tensor([[1., 1., 1.],\n",
      "        [1., 1., 1.]], dtype=torch.float64)\n"
     ]
    }
   ],
   "source": [
    "# switch between ndarrays and PyTorch tensors\n",
    "import numpy as np\n",
    "numpy_array = np.ones((2, 3))\n",
    "print(numpy_array)\n",
    "\n",
    "pytorch_tensor = torch.from_numpy(numpy_array)\n",
    "print(pytorch_tensor)"
   ]
  },
  {
   "cell_type": "code",
   "execution_count": 7,
   "id": "cb61af1c-e169-4c53-9ec4-230e72e1f685",
   "metadata": {},
   "outputs": [
    {
     "name": "stdout",
     "output_type": "stream",
     "text": [
      "tensor([[0.0544, 0.8057, 0.6331],\n",
      "        [0.8373, 0.7599, 0.6516]])\n",
      "[[0.05441862 0.8057434  0.6330911 ]\n",
      " [0.8372871  0.75994647 0.6516467 ]]\n"
     ]
    }
   ],
   "source": [
    "# reverse example of converting from PyTorch tensor into ndarray\n",
    "pytorch_rand = torch.rand(2, 3)\n",
    "print(pytorch_rand)\n",
    "\n",
    "numpy_rand = pytorch_rand.numpy()\n",
    "print(numpy_rand)"
   ]
  },
  {
   "cell_type": "code",
   "execution_count": 8,
   "id": "a235852e-4608-41b0-873e-a191ee106897",
   "metadata": {},
   "outputs": [
    {
     "name": "stdout",
     "output_type": "stream",
     "text": [
      "tensor([[ 1.,  1.,  1.],\n",
      "        [ 1., 23.,  1.]], dtype=torch.float64)\n",
      "[[ 0.05441862  0.8057434   0.6330911 ]\n",
      " [ 0.8372871  17.          0.6516467 ]]\n"
     ]
    }
   ],
   "source": [
    "numpy_array[1, 1] = 23\n",
    "print(pytorch_tensor)\n",
    "\n",
    "pytorch_rand[1, 1] = 17\n",
    "print(numpy_rand)"
   ]
  },
  {
   "cell_type": "code",
   "execution_count": null,
   "id": "ab81621d-612f-4de2-b49a-989e166bd2b9",
   "metadata": {},
   "outputs": [],
   "source": []
  }
 ],
 "metadata": {
  "kernelspec": {
   "display_name": "Python 3 (ipykernel)",
   "language": "python",
   "name": "python3"
  },
  "language_info": {
   "codemirror_mode": {
    "name": "ipython",
    "version": 3
   },
   "file_extension": ".py",
   "mimetype": "text/x-python",
   "name": "python",
   "nbconvert_exporter": "python",
   "pygments_lexer": "ipython3",
   "version": "3.12.4"
  }
 },
 "nbformat": 4,
 "nbformat_minor": 5
}
