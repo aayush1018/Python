{
 "cells": [
  {
   "cell_type": "code",
   "execution_count": null,
   "id": "69474c9c-582f-43dc-abd7-249d8ecd5075",
   "metadata": {},
   "outputs": [],
   "source": [
    "import numpy as np\n",
    "import matplotlib.pyplot as plt\n",
    "%config InlineBackend.figure_formats = \"retina\"\n",
    "import cv2\n",
    "from matplotlib import rcParams\n",
    "\n",
    "rcParams[\"figure.figsize\"] = 24,10\n",
    "img= plt.imread(\"../Image Processing/field.jpg\")\n",
    "plt.axis(\"off\")\n",
    "plt.imshow(img)"
   ]
  },
  {
   "cell_type": "code",
   "execution_count": null,
   "id": "d1c2350e-d1aa-4229-a29e-c2c55a0ab786",
   "metadata": {},
   "outputs": [],
   "source": [
    "median = cv2.medianBlur(img, 5)\n",
    "plt.axis(\"off\")\n",
    "plt.imshow(median)"
   ]
  },
  {
   "cell_type": "code",
   "execution_count": null,
   "id": "ca2c8b8a-f692-488e-b0bb-e9117bae2923",
   "metadata": {},
   "outputs": [],
   "source": [
    "rcParams[\"figure.figsize\"] = 20,8\n",
    "kernel = np.ones((5,5), np.float32)/25\n",
    "average = cv2.filter2D(src=img, ddepth=-1, kernel=kernel)\n",
    "\n",
    "fig,ax = plt.subplots(1,2)\n",
    "ax[0].imshow(average[:,:400])\n",
    "ax[1].imshow(median[:,:400])"
   ]
  },
  {
   "cell_type": "code",
   "execution_count": null,
   "id": "72db669a-5072-41d0-bfc5-d9a678392c64",
   "metadata": {},
   "outputs": [],
   "source": [
    "#checking the leftmost section\n",
    "rcParams[\"figure.figsize\"] = 20, 20\n",
    "\n",
    "fig,ax = plt.subplots(1,2)\n",
    "ax[0].imshow(average[:,400:800])\n",
    "ax[1].imshow(median[:,400:800])"
   ]
  },
  {
   "cell_type": "code",
   "execution_count": null,
   "id": "33e722db-aa4b-4602-81f3-274ad915ec0a",
   "metadata": {},
   "outputs": [],
   "source": [
    "#checking the middle section\n",
    "fig,ax = plt.subplots(1,2)\n",
    "ax[0].imshow(average[:,400:800])\n",
    "ax[1].imshow(median[:,400:800])"
   ]
  },
  {
   "cell_type": "code",
   "execution_count": null,
   "id": "b3f996b9-2491-4808-a91d-9035e5de6244",
   "metadata": {},
   "outputs": [],
   "source": [
    "#checking the right section\n",
    "fig,ax = plt.subplots(1,2)\n",
    "ax[0].imshow(average[:,800:1200])\n",
    "ax[1].imshow(median[:,800:1200])"
   ]
  },
  {
   "cell_type": "code",
   "execution_count": null,
   "id": "79625c37-a0ac-4ea2-8b35-f289840c7ab1",
   "metadata": {},
   "outputs": [],
   "source": [
    "rcParams['figure.figsize'] = (24, 10)\n",
    "\n",
    "img = plt.imread('workers.jpg')\n",
    "plt.axis(\"off\")\n",
    "plt.imshow(img)"
   ]
  },
  {
   "cell_type": "code",
   "execution_count": null,
   "id": "f66c3c83-94aa-4696-a537-41661fc73965",
   "metadata": {},
   "outputs": [],
   "source": [
    "median = cv2.medianBlur(img,3)\n",
    "plt.axis(\"off\")\n",
    "plt.imshow(median)"
   ]
  },
  {
   "cell_type": "code",
   "execution_count": null,
   "id": "4cc71142-a8f8-405c-b71b-4a4e9eb514ce",
   "metadata": {},
   "outputs": [],
   "source": [
    "rcParams['figure.figsize'] = (20,8)\n",
    "\n",
    "kernel = np.ones((3, 3), np.float32) / 9\n",
    "average = cv2.filter2D(src=img, ddepth=-1, kernel=kernel)\n",
    "\n",
    "# display images\n",
    "fig, ax = plt.subplots(1,2)\n",
    "ax[0].imshow(average)\n",
    "ax[1].imshow(median)"
   ]
  },
  {
   "cell_type": "code",
   "execution_count": null,
   "id": "304a4381-98ec-4b7d-adbc-a8263156641b",
   "metadata": {},
   "outputs": [],
   "source": [
    "rcParams['figure.figsize'] = (20, 20)\n",
    "\n",
    "# display images\n",
    "fig, ax = plt.subplots(1,2)\n",
    "ax[0].imshow(average[:,:400])\n",
    "ax[1].imshow(median[:,:400])"
   ]
  },
  {
   "cell_type": "code",
   "execution_count": null,
   "id": "7bda10b0-b8e6-4b33-b319-dd1191ea3f71",
   "metadata": {},
   "outputs": [],
   "source": [
    "fig, ax = plt.subplots(1,2)\n",
    "ax[0].imshow(average[:,400:800])\n",
    "ax[1].imshow(median[:,400:800])"
   ]
  },
  {
   "cell_type": "code",
   "execution_count": null,
   "id": "cb12e1cb-3254-412d-a36c-2ab2dcd6d517",
   "metadata": {},
   "outputs": [],
   "source": [
    "fig, ax = plt.subplots(1,2)\n",
    "ax[0].imshow(average[:,400:800])\n",
    "ax[1].imshow(median[:,400:800])"
   ]
  },
  {
   "cell_type": "code",
   "execution_count": null,
   "id": "5c598221-2faa-470f-8ad0-940c13fbbf84",
   "metadata": {},
   "outputs": [],
   "source": [
    "fig, ax = plt.subplots(1,2)\n",
    "ax[0].imshow(average[:,700:1100])\n",
    "ax[1].imshow(median[:,700:1100])"
   ]
  },
  {
   "cell_type": "code",
   "execution_count": null,
   "id": "f36fc152-2458-4dcb-8e33-52ca0d379c82",
   "metadata": {},
   "outputs": [],
   "source": []
  }
 ],
 "metadata": {
  "kernelspec": {
   "display_name": "Python 3 (ipykernel)",
   "language": "python",
   "name": "python3"
  },
  "language_info": {
   "codemirror_mode": {
    "name": "ipython",
    "version": 3
   },
   "file_extension": ".py",
   "mimetype": "text/x-python",
   "name": "python",
   "nbconvert_exporter": "python",
   "pygments_lexer": "ipython3",
   "version": "3.12.4"
  }
 },
 "nbformat": 4,
 "nbformat_minor": 5
}
